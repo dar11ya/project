{
  "metadata": {
    "kernelspec": {
      "name": "python",
      "display_name": "Python (Pyodide)",
      "language": "python"
    },
    "language_info": {
      "codemirror_mode": {
        "name": "python",
        "version": 3
      },
      "file_extension": ".py",
      "mimetype": "text/x-python",
      "name": "python",
      "nbconvert_exporter": "python",
      "pygments_lexer": "ipython3",
      "version": "3.8"
    },
    "colab": {
      "provenance": [],
      "include_colab_link": true
    }
  },
  "nbformat_minor": 0,
  "nbformat": 4,
  "cells": [
    {
      "cell_type": "markdown",
      "metadata": {
        "id": "view-in-github",
        "colab_type": "text"
      },
      "source": [
        "<a href=\"https://colab.research.google.com/github/dar11ya/project/blob/master/Omelchenko_practice2.ipynb\" target=\"_parent\"><img src=\"https://colab.research.google.com/assets/colab-badge.svg\" alt=\"Open In Colab\"/></a>"
      ]
    },
    {
      "cell_type": "markdown",
      "source": [
        "# I. Змінні та памʼять."
      ],
      "metadata": {
        "id": "p9wwt0LZzNvn"
      }
    },
    {
      "cell_type": "markdown",
      "source": [
        "1. Створити змінні, що посилаються на два цілих числа, що однакові за значенням, де значення належить проміжку від -5 до 256. Перевірте, чи будуть ці змінні рівні тільки за значенням або ж ще будуть посилатися на один і той самий обʼєкт в памʼяті? Наведіть код та дайте текстову відповідь нижче."
      ],
      "metadata": {
        "id": "HTJrrm95xSV9"
      }
    },
    {
      "cell_type": "code",
      "source": [
        "var1 = 13\n",
        "var2 = 13\n",
        "\n",
        "print(var1 == var2)\n",
        "print(var1 is var2)"
      ],
      "metadata": {
        "id": "TATni2vzayjG",
        "trusted": true,
        "outputId": "a5a60430-017c-4556-ec91-54b366e0a1c1"
      },
      "outputs": [
        {
          "name": "stdout",
          "output_type": "stream",
          "text": "True\nTrue\n"
        }
      ],
      "execution_count": null
    },
    {
      "cell_type": "markdown",
      "source": [
        "#The variables var1 and var2, which contain the same values, refer to the same object in memory because they are in the same range, if the values go beyond this range (for example, var1 = 300), Python will create two different objects."
      ],
      "metadata": {
        "id": "zfRG_o3WbRdg"
      }
    },
    {
      "cell_type": "markdown",
      "source": [
        "2. За допомогою якої функції можна перевірити належність змінної до вказаного типу даних (напр. чи змінна True посилається на значення булевого та цілочисленого типу)?"
      ],
      "metadata": {
        "id": "ISORzt6M3vAt"
      }
    },
    {
      "cell_type": "code",
      "source": [
        "#In Python, the isinstance() function is used to check the type of a variable"
      ],
      "metadata": {
        "id": "9vL9CFaMbfyo",
        "trusted": true,
        "scrolled": true
      },
      "outputs": [],
      "execution_count": null
    },
    {
      "cell_type": "markdown",
      "source": [
        "# II. Цілі числа та числа з рухомою комою"
      ],
      "metadata": {
        "id": "tRxugKAxwYLw"
      }
    },
    {
      "cell_type": "markdown",
      "source": [
        "3. Створити дві змінні, що посилаються на будь-які ціле число та число з рухомою комою та продемонструвати такі арифметичні операції: додавання, віднімання, ділення, множення, ділення без залишку, ділення по модулю, приведення до ступеню. Всі результати операцій вивести на екран."
      ],
      "metadata": {
        "id": "NLHkgd5Gybc8"
      }
    },
    {
      "cell_type": "code",
      "source": [
        "var3 = 2\n",
        "var4 = 5.47\n",
        "print(var3 + var4)\n",
        "print(var3 - var4)\n",
        "print(var3 * var4)\n",
        "print(var3 / var4)\n",
        "print(var3 // var4)\n",
        "print(var3 % var4)\n",
        "print(var3 ** 2)\n",
        "print(var4 ** 3)"
      ],
      "metadata": {
        "id": "nb8u_3pjb2cA",
        "trusted": true,
        "outputId": "cfd966ad-e485-4c2c-a792-448fb040083a"
      },
      "outputs": [
        {
          "name": "stdout",
          "output_type": "stream",
          "text": "7.47\n-3.4699999999999998\n10.94\n0.3656307129798903\n0.0\n2.0\n4\n163.66732299999998\n"
        }
      ],
      "execution_count": null
    },
    {
      "cell_type": "markdown",
      "source": [
        "4. Використовуючи змінні з вправи 3, продемонструйте механізм явного перетворення типів, де числа з рухомою комою перетворюються на цілі числа. Також визначте змінну, що посилається на значення булевого типу і спробуйте явно привести її до цілого числа."
      ],
      "metadata": {
        "id": "1kBClKgPzZnC"
      }
    },
    {
      "cell_type": "code",
      "source": [
        "print(int(var4))\n",
        "var6 = False\n",
        "print(int(var6))\n",
        "var7 = True\n",
        "print(int(var7))"
      ],
      "metadata": {
        "id": "TbqJbkeUcKsD",
        "trusted": true,
        "outputId": "58793a9a-24ae-411c-810d-f51cb90ffc14"
      },
      "outputs": [
        {
          "name": "stdout",
          "output_type": "stream",
          "text": "5\n0\n1\n"
        }
      ],
      "execution_count": null
    },
    {
      "cell_type": "markdown",
      "source": [
        "# IІІ. Рядки (String)."
      ],
      "metadata": {
        "id": "EVJ7AflwxrZi"
      }
    },
    {
      "cell_type": "markdown",
      "source": [
        "5. Створити пустий рядок двома різними способами."
      ],
      "metadata": {
        "id": "_s5ECzz9zE61"
      }
    },
    {
      "cell_type": "code",
      "source": [
        "str1 = \"\"\n",
        "print(str1)\n",
        "str2 = str()\n",
        "print(str2)"
      ],
      "metadata": {
        "id": "fkZJHu9Scvc-",
        "trusted": true,
        "outputId": "ed41cb66-eeee-49b0-8544-03867747beb5"
      },
      "outputs": [
        {
          "name": "stdout",
          "output_type": "stream",
          "text": "\n\n"
        }
      ],
      "execution_count": null
    },
    {
      "cell_type": "markdown",
      "source": [
        "6. Створити рядок з апострофом. Зробити його сирим. Вивести обидва рядка на екран."
      ],
      "metadata": {
        "id": "4Bdn9J3MzLf_"
      }
    },
    {
      "cell_type": "code",
      "source": [
        "str3 = \"there're smth\"\n",
        "print(str3)\n",
        "str4 = r\"path\\here\"\n",
        "print(str4)"
      ],
      "metadata": {
        "id": "ivji_hsmc0GH",
        "trusted": true,
        "outputId": "65f6e267-50a2-4370-dac1-069dddb8e5dd"
      },
      "outputs": [
        {
          "name": "stdout",
          "output_type": "stream",
          "text": "there're smth\npath\\here\n"
        }
      ],
      "execution_count": null
    },
    {
      "cell_type": "markdown",
      "source": [
        "7. Створити змінну, що буде посилатися на Ваше прізвище латинкою. Створити форматований рядок, який буде мати вигляд \"My surname is ______\", де на місці нижніх підкреслень буде Ваше прізвище зі змінної."
      ],
      "metadata": {
        "id": "bg_d8wM4z8dS"
      }
    },
    {
      "cell_type": "code",
      "source": [
        "sur = \"Omelchenko\"\n",
        "print(f\"My surname is {sur}\")"
      ],
      "metadata": {
        "id": "kuxFgpWndACq",
        "trusted": true,
        "outputId": "db78cecf-772f-4332-f3c1-0d323559c5c9"
      },
      "outputs": [
        {
          "name": "stdout",
          "output_type": "stream",
          "text": "My surname is Omelchenko\n"
        }
      ],
      "execution_count": null
    },
    {
      "cell_type": "markdown",
      "source": [
        "8. Маючи рядок \"My dog is crazy.\" перетворити його на список [\"my\", \"dog\", \"is\", \"crazy\"]"
      ],
      "metadata": {
        "id": "1Nc6RqvQ0hxU"
      }
    },
    {
      "cell_type": "code",
      "source": [
        "str5 = \"My dog is crazy.\"\n",
        "word = str5[:-1]\n",
        "word1 = word.lower().split()\n",
        "print(word1)"
      ],
      "metadata": {
        "id": "w1Ya4RqedUhw",
        "trusted": true,
        "outputId": "d2ad333d-8a90-4e95-b829-cb31d1a0154e"
      },
      "outputs": [
        {
          "name": "stdout",
          "output_type": "stream",
          "text": "['my', 'dog', 'is', 'crazy']\n"
        }
      ],
      "execution_count": null
    },
    {
      "cell_type": "markdown",
      "source": [
        "# IV. Робота зі списками."
      ],
      "metadata": {
        "id": "GYVqN9uP1D4n"
      }
    },
    {
      "cell_type": "markdown",
      "source": [
        "9. Створити список двома різними за синтаксисом способами. За допомогою вбудованої функції обчисліть довжину одного з них."
      ],
      "metadata": {
        "id": "7-DeDunw2sO-"
      }
    },
    {
      "cell_type": "code",
      "source": [
        "list1 = [1, 2, 3, 4, 5]\n",
        "print(list1)\n",
        "list2 = list((1, 2, 3, 4))\n",
        "print(list2)\n",
        "print(len(list2))"
      ],
      "metadata": {
        "id": "zxg06Uuxdyoh",
        "trusted": true,
        "outputId": "6cfccd5b-194b-4f79-d851-377aa853fc0b"
      },
      "outputs": [
        {
          "name": "stdout",
          "output_type": "stream",
          "text": "[1, 2, 3, 4, 5]\n[1, 2, 3, 4]\n4\n"
        }
      ],
      "execution_count": null
    },
    {
      "cell_type": "markdown",
      "source": [
        "10. Створіть два списка та за допомогою спеціального методу додайте другий з них в якості останнього елемента першого."
      ],
      "metadata": {
        "id": "8vmGUTjL22gI"
      }
    },
    {
      "cell_type": "code",
      "source": [
        "list3 = [2, 5, 'hi', 89, '123']\n",
        "list4 = [1, 3, 'ok']\n",
        "list3.append(list4)\n",
        "print(list3)"
      ],
      "metadata": {
        "id": "uHtjWYw7d7hm"
      },
      "outputs": [],
      "execution_count": null
    },
    {
      "cell_type": "markdown",
      "source": [
        "11. Створіть список, де елементами цього списку також є списки. Отримай перший елемент з останнього рядка та виведи значення на екран."
      ],
      "metadata": {
        "id": "JC3BkD-67_--"
      }
    },
    {
      "cell_type": "code",
      "source": [
        "list5 = [[1, 2], ['ok', 'good'], [87, '12']]\n",
        "print(list5[-1][0])"
      ],
      "metadata": {
        "id": "Kz2jZHsGeLlz"
      },
      "outputs": [],
      "execution_count": null
    },
    {
      "cell_type": "markdown",
      "source": [
        "12. Створіть список з десяти елементів різного типу. Отримайте всі елементи, окрім двох перших та двох останніх та збережіть їх в новій змінній."
      ],
      "metadata": {
        "id": "JA47PKTv8zFK"
      }
    },
    {
      "cell_type": "code",
      "source": [
        "list6 = [1, '2', 3.0, False, 4.5j, [6, 7, 8], (19, 786), 0, None, 'ok']\n",
        "print(len(list6))\n",
        "print(list6[2:-2])"
      ],
      "metadata": {
        "id": "_rHdUR-ueP4-",
        "trusted": true,
        "outputId": "7c83f6b0-fb34-47e3-9ee1-41c8a5008a66"
      },
      "outputs": [
        {
          "name": "stdout",
          "output_type": "stream",
          "text": "10\n[3.0, False, 4.5j, [6, 7, 8], (19, 786), 0]\n"
        }
      ],
      "execution_count": null
    },
    {
      "cell_type": "markdown",
      "source": [
        "# V. Робота з кортежами."
      ],
      "metadata": {
        "id": "pCjR1dJb1Qbi"
      }
    },
    {
      "cell_type": "markdown",
      "source": [
        "14. Створити кортеж з один елементом."
      ],
      "metadata": {
        "id": "fAZCxAX06R_k"
      }
    },
    {
      "cell_type": "code",
      "source": [
        "tup1 = (1, )\n",
        "print(tup1)\n",
        "print(isinstance(tup1, tuple))"
      ],
      "metadata": {
        "id": "H7d82WkQev3e",
        "trusted": true,
        "outputId": "e1b1559f-960a-4329-d018-53d3f83a23db"
      },
      "outputs": [
        {
          "name": "stdout",
          "output_type": "stream",
          "text": "(1,)\nTrue\n"
        }
      ],
      "execution_count": null
    },
    {
      "cell_type": "markdown",
      "source": [
        "15. Порівняйте список та кортеж. Назвіть схожості та відмінності, випадки використання."
      ],
      "metadata": {
        "id": "8LCtYcmI6w1M"
      }
    },
    {
      "cell_type": "markdown",
      "source": [
        "Список і кортеж — це впорядковані колекції елементів, які підтримують індексацію та зрізи, а також можуть містити дані різних типів.\n",
        "Головна відмінність між ними — змінність: список є мутабельний, тоді як кортеж немутабельний. Це також впливає на продуктивність: кортежі працюють швидше та займають менше пам’яті.\n",
        "Списки доцільно використовувати, коли потрібна динамічна структура даних, наприклад, для збереження змінюваного набору елементів. Кортежі підходять для зберігання постійних даних, таких як координати або записи в базі даних."
      ],
      "metadata": {
        "id": "fUsN1Hnue0C6"
      }
    },
    {
      "cell_type": "markdown",
      "source": [
        "16. Створіть кортеж з 11ти елементів чисел з рухомою комою та отримайте кожен парний за індексом елемент в зворотньому порядку. Наприклад, маючи (1.2, 2.3, 3.3, 4.3, 5.3, 6.3, 7.3, 8.3, 9.3, 0.3), отримати (0.3, 8.3, 6.3, 4.3, 2.3). Результат збережіть в нову змінну та виведіть на екран."
      ],
      "metadata": {
        "id": "m0xrwFijAmDD"
      }
    },
    {
      "cell_type": "code",
      "source": [
        "tup2 = (0.1, 0.2, 0.3, 0.4, 0.5, 0.6, 0.7, 0.8, 0.9, 1.0, 1.1)\n",
        "print(len(tup2))\n",
        "print(tup2[::2][::-1])"
      ],
      "metadata": {
        "id": "p-5DAH6XfAGA"
      },
      "outputs": [],
      "execution_count": null
    },
    {
      "cell_type": "markdown",
      "source": [
        "# VI. Множини (Set)."
      ],
      "metadata": {
        "id": "rW_I9dt3x6cW"
      }
    },
    {
      "cell_type": "markdown",
      "source": [
        "17. Створити множину без елементів. Після цого за допомогою методу додайте кілька різних елементів до множини. Чи множини є змінним типом даних?"
      ],
      "metadata": {
        "id": "zNjRLHLw1Bgg"
      }
    },
    {
      "cell_type": "code",
      "source": [
        "set1 = set()\n",
        "print(set1)\n",
        "set1.add(1)\n",
        "set1.update([3, 5, 7])\n",
        "print(set1)"
      ],
      "metadata": {
        "id": "KOv7zc2Kfo4N"
      },
      "outputs": [],
      "execution_count": null
    },
    {
      "cell_type": "markdown",
      "source": [
        "Так"
      ],
      "metadata": {
        "id": "vxS6dVYiftZQ"
      }
    },
    {
      "cell_type": "markdown",
      "source": [
        "18. Створити множину, маючи список my_list = [1, 1, 2, 67, 67, 8, 9]. Пояснити, чому \"зникли\" деякі елементи."
      ],
      "metadata": {
        "id": "gHpT0Zw_1HEF"
      }
    },
    {
      "cell_type": "code",
      "source": [
        "my_list = [1, 1, 2, 67, 67, 8, 9]\n",
        "my_set = set(my_list)\n",
        "print(my_list)\n",
        "print(my_set)"
      ],
      "metadata": {
        "id": "qCN4uvJ_fxmu",
        "trusted": true,
        "outputId": "c696b69a-fd62-412a-caa4-06b4fce2aff3"
      },
      "outputs": [
        {
          "name": "stdout",
          "output_type": "stream",
          "text": "[1, 1, 2, 67, 67, 8, 9]\n{1, 2, 67, 8, 9}\n"
        }
      ],
      "execution_count": null
    },
    {
      "cell_type": "markdown",
      "source": [
        "Множина — це невпорядкована колекція унікальних елементів. Вона не зберігає дублікати, тому при створенні set із my_list значення, які повторюються залишаються лише в одному екземплярі."
      ],
      "metadata": {
        "id": "tFNc1e20fyny"
      }
    },
    {
      "cell_type": "markdown",
      "source": [
        "19. Створіть дві множини. Продемонстуйте над ними операції: обʼєднання, різниці, пересічі та симетричної різниці. Використовуйте методи, що не змінюють множини, а створюють нові."
      ],
      "metadata": {
        "id": "SRMkGizS1UwY"
      }
    },
    {
      "cell_type": "code",
      "source": [
        "set1 = {1, 2, 3, 4, 5}\n",
        "set2 = {4, 5, 6, 7, 8}\n",
        "\n",
        "union_set = set1.union(set2)\n",
        "print(union_set)\n",
        "\n",
        "difference_set = set1.difference(set2)\n",
        "print(difference_set)\n",
        "\n",
        "intersection_set = set1.intersection(set2)\n",
        "print(intersection_set)\n",
        "\n",
        "symmetric_difference_set = set1.symmetric_difference(set2)\n",
        "print(symmetric_difference_set)\n"
      ],
      "metadata": {
        "id": "h0T-VuDnf3Ri",
        "trusted": true,
        "outputId": "047ea583-de9b-4ecc-ba41-c2050a1cf8c0"
      },
      "outputs": [
        {
          "name": "stdout",
          "output_type": "stream",
          "text": "{1, 2, 3, 4, 5, 6, 7, 8}\n{1, 2, 3}\n{4, 5}\n{1, 2, 3, 6, 7, 8}\n"
        }
      ],
      "execution_count": null
    },
    {
      "cell_type": "markdown",
      "source": [
        "# VII. Словники (Dictionary)."
      ],
      "metadata": {
        "id": "kWc8gkzTx7Ea"
      }
    },
    {
      "cell_type": "markdown",
      "source": [
        "20. Створіть пустий словник. До нього додайте чотири пари елементів такі, щоб їхні ключі були різних типів. Чи може список бути ключем? Чому?"
      ],
      "metadata": {
        "id": "i5FLwj-B2ybQ"
      }
    },
    {
      "cell_type": "code",
      "source": [
        "my_dict = {}\n",
        "\n",
        "my_dict[1] = \"one\"\n",
        "my_dict[\"name\"] = \"Daria\"\n",
        "my_dict[3.14] = \"pi\"\n",
        "my_dict[(2, 3)] = \"tuple\"\n",
        "\n",
        "print(my_dict)"
      ],
      "metadata": {
        "id": "hxgv3BzrgLAV"
      },
      "outputs": [],
      "execution_count": null
    },
    {
      "cell_type": "markdown",
      "source": [
        "Ні, список не може бути ключем, тому що ключі у словнику мають бути immutable"
      ],
      "metadata": {
        "id": "zwa7UVN-gR3m"
      }
    },
    {
      "cell_type": "markdown",
      "source": [
        "21. Створіть словник, де значенням в одній з пар теж буде словник, який теж має вкладений словник. Виведіть на екран значення, що міститься в словнику, що знаходиться на найнижчому рівні ієрархії вкладеності (найбільш внутрішній)."
      ],
      "metadata": {
        "id": "WM_pMlJsgoNf"
      }
    },
    {
      "cell_type": "code",
      "source": [
        "my_dict = {\n",
        "    \"user\": {\n",
        "        \"info\": {\n",
        "            \"name\": \"Daria\",\n",
        "            \"age\": 18,\n",
        "            \"contacts\": {\n",
        "                \"email\": \"d.omelchenko@ukma.edu.ua\",\n",
        "                \"phone\": \"+380988112099\"\n",
        "            }\n",
        "        }\n",
        "    }\n",
        "}\n",
        "\n",
        "print(my_dict[\"user\"][\"info\"][\"contacts\"][\"email\"])"
      ],
      "metadata": {
        "id": "60dlP7IHhAy4",
        "trusted": true,
        "outputId": "78f26d07-38c9-45c0-8fa1-f840df020d94"
      },
      "outputs": [
        {
          "name": "stdout",
          "output_type": "stream",
          "text": "d.omelchenko@ukma.edu.ua\n"
        }
      ],
      "execution_count": null
    },
    {
      "cell_type": "markdown",
      "source": [
        "# Вітаю! Ви велика(ий) молодець, що впоралась(вся). Похваліть себе та побалуйте чимось приємним. Я Вами пишаюся."
      ],
      "metadata": {
        "id": "xOZP0hkx6cCr"
      }
    }
  ]
}